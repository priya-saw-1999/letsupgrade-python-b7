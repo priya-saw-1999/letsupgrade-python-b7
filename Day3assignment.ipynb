{
  "nbformat": 4,
  "nbformat_minor": 0,
  "metadata": {
    "colab": {
      "name": "Day3assignment",
      "provenance": [],
      "authorship_tag": "ABX9TyOFNGEkW/8t9779EXqSBT5h",
      "include_colab_link": true
    },
    "kernelspec": {
      "name": "python3",
      "display_name": "Python 3"
    }
  },
  "cells": [
    {
      "cell_type": "markdown",
      "metadata": {
        "id": "view-in-github",
        "colab_type": "text"
      },
      "source": [
        "<a href=\"https://colab.research.google.com/github/priya-saw-1999/letsupgrade-python-b7/blob/master/Day3assignment.ipynb\" target=\"_parent\"><img src=\"https://colab.research.google.com/assets/colab-badge.svg\" alt=\"Open In Colab\"/></a>"
      ]
    },
    {
      "cell_type": "markdown",
      "metadata": {
        "id": "ze4yoa-N81nq",
        "colab_type": "text"
      },
      "source": [
        "ASSIGNMENT 1"
      ]
    },
    {
      "cell_type": "markdown",
      "metadata": {
        "id": "SJGOJPJZ8_sN",
        "colab_type": "text"
      },
      "source": [
        " You all are pilots,you have to land a plane,the altitude required for landing a plane is 1000ft,if it is less than that,tell pilot to land the plane or if it is more than that but less than 5000ft ask the pilot to come down to 1000ft,else if it is more than 5000 ft ask tha pilot to 'go around and try later'."
      ]
    },
    {
      "cell_type": "code",
      "metadata": {
        "id": "6k14xBzyI0sE",
        "colab_type": "code",
        "colab": {
          "base_uri": "https://localhost:8080/",
          "height": 51
        },
        "outputId": "f078b2e5-3acd-4846-c9f4-f3d74fcef98e"
      },
      "source": [
        " \n",
        "num = input(\"ENTER THE ALTITUDE IN ft\")\n",
        "num = int(num) \n",
        " \n",
        " x = num\n",
        "if 5000 > x > 1000:\n",
        "    print(\"Bring down to 1000ft\")\n",
        "elif x <= 1000:\n",
        "    print(\"safe to land\")\n",
        "else:\n",
        "    print(\"turn around\")"
      ],
      "execution_count": 14,
      "outputs": [
        {
          "output_type": "stream",
          "text": [
            "ENTER THE ALTITUDE IN ft7000\n",
            "turn around\n"
          ],
          "name": "stdout"
        }
      ]
    },
    {
      "cell_type": "markdown",
      "metadata": {
        "id": "MYLVeiHRLEsT",
        "colab_type": "text"
      },
      "source": [
        "ASSIGNMENT 2"
      ]
    },
    {
      "cell_type": "markdown",
      "metadata": {
        "id": "v-7TeSPuLIS9",
        "colab_type": "text"
      },
      "source": [
        "Using 'for loop' ,print all the prime numbers between 1 to 200 using for loop' and range function."
      ]
    },
    {
      "cell_type": "code",
      "metadata": {
        "id": "9qd9BqZvYJor",
        "colab_type": "code",
        "colab": {
          "base_uri": "https://localhost:8080/",
          "height": 816
        },
        "outputId": "3af7c2dc-899b-4000-8cba-6b5a5c95c1ac"
      },
      "source": [
        " for n in range (1, 200):\n",
        "    count = 0\n",
        "    for i in range(2, (n//2 + 1)):\n",
        "        if(n % i == 0):\n",
        "            count = count + 1\n",
        "            break\n",
        " \n",
        "    if (count == 0 & n != 1):\n",
        "        print(\"%d\" %n )"
      ],
      "execution_count": 63,
      "outputs": [
        {
          "output_type": "stream",
          "text": [
            "1\n",
            "2\n",
            "3\n",
            "5\n",
            "7\n",
            "11\n",
            "13\n",
            "17\n",
            "19\n",
            "23\n",
            "29\n",
            "31\n",
            "37\n",
            "41\n",
            "43\n",
            "47\n",
            "53\n",
            "59\n",
            "61\n",
            "67\n",
            "71\n",
            "73\n",
            "79\n",
            "83\n",
            "89\n",
            "97\n",
            "101\n",
            "103\n",
            "107\n",
            "109\n",
            "113\n",
            "127\n",
            "131\n",
            "137\n",
            "139\n",
            "149\n",
            "151\n",
            "157\n",
            "163\n",
            "167\n",
            "173\n",
            "179\n",
            "181\n",
            "191\n",
            "193\n",
            "197\n",
            "199\n"
          ],
          "name": "stdout"
        }
      ]
    }
  ]
}